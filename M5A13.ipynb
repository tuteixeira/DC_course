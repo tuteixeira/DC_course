{
  "nbformat": 4,
  "nbformat_minor": 0,
  "metadata": {
    "colab": {
      "provenance": [],
      "authorship_tag": "ABX9TyPVjufHyKrhciRjtk50K6Z0",
      "include_colab_link": true
    },
    "kernelspec": {
      "name": "python3",
      "display_name": "Python 3"
    },
    "language_info": {
      "name": "python"
    }
  },
  "cells": [
    {
      "cell_type": "markdown",
      "metadata": {
        "id": "view-in-github",
        "colab_type": "text"
      },
      "source": [
        "<a href=\"https://colab.research.google.com/github/tuteixeira/DC_course/blob/main/M5A13.ipynb\" target=\"_parent\"><img src=\"https://colab.research.google.com/assets/colab-badge.svg\" alt=\"Open In Colab\"/></a>"
      ]
    },
    {
      "cell_type": "code",
      "execution_count": 6,
      "metadata": {
        "id": "r5IRdn95FGv3"
      },
      "outputs": [],
      "source": [
        "import pandas as pd\n",
        "import numpy as np\n",
        "from sklearn.model_selection import train_test_split\n",
        "from sklearn.linear_model import LinearRegression\n",
        "from sklearn.metrics import r2_score\n",
        "from sklearn.datasets import load_boston"
      ]
    },
    {
      "cell_type": "code",
      "source": [
        "boston = load_boston()\n",
        "dataset = pd.DataFrame(boston.data, columns = boston.feature_names)\n",
        "dataset['target'] = boston.target"
      ],
      "metadata": {
        "id": "hj58UELPHQCm"
      },
      "execution_count": null,
      "outputs": []
    },
    {
      "cell_type": "code",
      "source": [
        "dataset"
      ],
      "metadata": {
        "id": "vBAV5l4wJKYw"
      },
      "execution_count": null,
      "outputs": []
    },
    {
      "cell_type": "code",
      "source": [
        "#Definindo as colunas (atributos) e valores do x para teste e definindo os valores do target como gabarito\n",
        "x = dataset[['LSTAT', 'RM', 'DIS', 'PTRATIO']]\n",
        "y = dataset['target'].values"
      ],
      "metadata": {
        "id": "AsJFuPXTJOd1"
      },
      "execution_count": 8,
      "outputs": []
    },
    {
      "cell_type": "code",
      "source": [
        "#Separando os dados de teste e de gabarito\n",
        "x_train, x_test, y_train, y_test = train_test_split(x, y, test_size = 0.2, random_state = 7)"
      ],
      "metadata": {
        "id": "zW2-gFfuK6Ar"
      },
      "execution_count": 9,
      "outputs": []
    },
    {
      "cell_type": "code",
      "source": [
        "#Algoritmo de ML, ficar atenta aos hiper parâmetros\n",
        "modelo = LinearRegression()"
      ],
      "metadata": {
        "id": "3ws9pYHNL36j"
      },
      "execution_count": 10,
      "outputs": []
    },
    {
      "cell_type": "code",
      "source": [
        "#Treinando o modelo\n",
        "modelo_v1 = modelo.fit(x_train, y_train)"
      ],
      "metadata": {
        "id": "c06XPhgcMQrq"
      },
      "execution_count": 11,
      "outputs": []
    },
    {
      "cell_type": "code",
      "source": [
        "#Depois do treino, testa-se através do predict, sendo alimentado por dados de teste\n",
        "previsões = modelo_v1.predict(x_test)"
      ],
      "metadata": {
        "id": "Qy9StReNMXEB"
      },
      "execution_count": 12,
      "outputs": []
    },
    {
      "cell_type": "code",
      "source": [
        "#Uso da métrica para avaliar a acurácia do modelo (é de boa prática alterar os hiper parâmetros do algoritmo LinearRegression)\n",
        "r2_score(y_test, previsões)"
      ],
      "metadata": {
        "colab": {
          "base_uri": "https://localhost:8080/"
        },
        "id": "ahg17jR8MgkO",
        "outputId": "4818cfc6-67d6-4970-a5d9-9fbc9168595e"
      },
      "execution_count": 13,
      "outputs": [
        {
          "output_type": "execute_result",
          "data": {
            "text/plain": [
              "0.5381691929033983"
            ]
          },
          "metadata": {},
          "execution_count": 13
        }
      ]
    },
    {
      "cell_type": "code",
      "source": [
        "#Construindo a matriz para novos dados\n",
        "LSTAT = 5\n",
        "RM = 8\n",
        "DIS = 6\n",
        "PTRATIO = 19"
      ],
      "metadata": {
        "id": "IBlYkRciCI7l"
      },
      "execution_count": 14,
      "outputs": []
    },
    {
      "cell_type": "code",
      "source": [
        "#Novos dados e prever o valor da \"nova casa\" baseado nos novos dados\n",
        "dados_nova_casa = (LSTAT, RM, DIS, PTRATIO)\n",
        "dados_nova_casa"
      ],
      "metadata": {
        "colab": {
          "base_uri": "https://localhost:8080/"
        },
        "id": "UrgDYt8LOfpu",
        "outputId": "f8a3854e-66e8-439b-86f9-dd142dde2c91"
      },
      "execution_count": 15,
      "outputs": [
        {
          "output_type": "execute_result",
          "data": {
            "text/plain": [
              "(5, 8, 6, 19)"
            ]
          },
          "metadata": {},
          "execution_count": 15
        }
      ]
    },
    {
      "cell_type": "code",
      "source": [
        "#Reshape, transformar lista em array (padrão)\n",
        "new_home = np.array(dados_nova_casa).reshape(1, -1)\n",
        "new_home"
      ],
      "metadata": {
        "colab": {
          "base_uri": "https://localhost:8080/"
        },
        "id": "ZaS6Mu00Uvzq",
        "outputId": "6ca7a9c6-7629-42c2-a754-4e233b638b8c"
      },
      "execution_count": 16,
      "outputs": [
        {
          "output_type": "execute_result",
          "data": {
            "text/plain": [
              "array([[ 5,  8,  6, 19]])"
            ]
          },
          "metadata": {},
          "execution_count": 16
        }
      ]
    },
    {
      "cell_type": "code",
      "source": [
        "#Valor da casa nova\n",
        "new_home_value = modelo_v1.predict(new_home)\n",
        "new_home_value"
      ],
      "metadata": {
        "colab": {
          "base_uri": "https://localhost:8080/"
        },
        "id": "SPCWmA1qD6PS",
        "outputId": "46149a9b-360c-46f7-b9b3-33f033d27718"
      },
      "execution_count": 19,
      "outputs": [
        {
          "output_type": "stream",
          "name": "stderr",
          "text": [
            "/usr/local/lib/python3.7/dist-packages/sklearn/base.py:451: UserWarning: X does not have valid feature names, but LinearRegression was fitted with feature names\n",
            "  \"X does not have valid feature names, but\"\n"
          ]
        },
        {
          "output_type": "execute_result",
          "data": {
            "text/plain": [
              "array([34.60918291])"
            ]
          },
          "metadata": {},
          "execution_count": 19
        }
      ]
    },
    {
      "cell_type": "code",
      "source": [
        "#previsão\n",
        "print('O valor na nova casa é :', new_home_value)"
      ],
      "metadata": {
        "colab": {
          "base_uri": "https://localhost:8080/"
        },
        "id": "ew4sf5JYU-ih",
        "outputId": "cae160f5-0136-425e-e78e-834aa2eea49e"
      },
      "execution_count": 23,
      "outputs": [
        {
          "output_type": "stream",
          "name": "stdout",
          "text": [
            "O valor na nova casa é : [34.60918291]\n"
          ]
        }
      ]
    },
    {
      "cell_type": "code",
      "source": [],
      "metadata": {
        "id": "WXXUbwotVKnC"
      },
      "execution_count": null,
      "outputs": []
    }
  ]
}